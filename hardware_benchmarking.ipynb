{
 "cells": [
  {
   "cell_type": "code",
   "execution_count": 336,
   "metadata": {},
   "outputs": [],
   "source": [
    "#imports\n",
    "from qiskit import*\n",
    "from qiskit.tools.visualization import plot_bloch_multivector\n",
    "from qiskit.tools.visualization import plot_histogram\n",
    "import numpy as np\n",
    "from numpy import linalg as LA\n",
    "import random\n",
    "from qiskit.extensions.simulator import snapshot\n",
    "from matplotlib import pyplot as plt\n",
    "from sortedcontainers import SortedDict\n",
    "from qiskit.extensions.simulator import snapshot\n",
    "from qiskit.providers.aer import noise\n",
    "%matplotlib inline"
   ]
  },
  {
   "cell_type": "code",
   "execution_count": 337,
   "metadata": {},
   "outputs": [
    {
     "name": "stderr",
     "output_type": "stream",
     "text": [
      "C:\\an\\lib\\site-packages\\qiskit\\providers\\ibmq\\ibmqfactory.py:181: UserWarning: Credentials are already in use. The existing account in the session will be replaced.\n",
      "  warnings.warn('Credentials are already in use. The existing '\n"
     ]
    }
   ],
   "source": [
    "# Choose a real device to simulate\n",
    "IBMQ.load_account()\n",
    "provider = IBMQ.get_provider(group='open')\n",
    "device = provider.get_backend('ibmq_16_melbourne')\n",
    "properties = device.properties()\n",
    "coupling_map = device.configuration().coupling_map\n",
    "\n",
    "# Generate an Aer noise model for device\n",
    "noise_model = noise.device.basic_device_noise_model(properties)\n",
    "basis_gates = noise_model.basis_gates\n"
   ]
  },
  {
   "cell_type": "code",
   "execution_count": 339,
   "metadata": {},
   "outputs": [],
   "source": [
    "def probabilty_dist(state):\n",
    "    probability_list = []\n",
    "    for i in range(len(state)): \n",
    "        probability_list.append(np.absolute(state[i])**2)\n",
    "    return probability_list"
   ]
  },
  {
   "cell_type": "code",
   "execution_count": 340,
   "metadata": {},
   "outputs": [],
   "source": [
    "def fidelity(initial_prob_list,final_prob_list):\n",
    "    fidelity = 0\n",
    "    for i in range(len(initial_prob_list)):\n",
    "        fidelity += np.sqrt(initial_prob_list[i]*final_prob_list[i])\n",
    "    return fidelity**2"
   ]
  },
  {
   "cell_type": "code",
   "execution_count": 341,
   "metadata": {},
   "outputs": [],
   "source": [
    "def normalize(vector):\n",
    "    return vector / LA.norm(vector)\n",
    "\n",
    "def random_initialize(circuit,no_q):\n",
    "    initial_prob_list = []\n",
    "    state_list = []\n",
    "    for i in range(no_q):\n",
    "        state = np.array([complex(random.random(),random.random()),complex(random.random(),random.random())])\n",
    "        state = normalize(state)\n",
    "        state_list.append(state)\n",
    "        circuit.initialize(state.tolist(),i)\n",
    "    initial_state = state_list[0]\n",
    "    for i in range(1,no_q):\n",
    "        initial_state =  np.kron(state_list[i],initial_state)\n",
    "    initial_prob_list = probabilty_dist(initial_state)\n",
    "    return initial_prob_list\n"
   ]
  },
  {
   "cell_type": "code",
   "execution_count": 342,
   "metadata": {},
   "outputs": [],
   "source": [
    "def scramble(circuit,no_g):\n",
    "    l = []\n",
    "    #scramble\n",
    "    for i in range(no_g):\n",
    "        n = list(range(no_q))\n",
    "        a = random.choice(n)\n",
    "        n.remove(a)\n",
    "        b = random.choice(n)\n",
    "        l.append([a,b])\n",
    "        circuit.cx(a,b)\n",
    "    circuit.barrier()\n",
    "    #invert\n",
    "    for i in range(1,no_g + 1):\n",
    "        circuit.cx(l[-i][0],l[-i][1])\n",
    "    for i in range(no_q):\n",
    "        circuit.measure(i,i)\n",
    "    circuit.barrier()\n",
    "    "
   ]
  },
  {
   "cell_type": "code",
   "execution_count": 374,
   "metadata": {},
   "outputs": [],
   "source": [
    "def benchmark(no_q,no_g,circuit):\n",
    "    initial_prob_list = random_initialize(circuit,no_q)\n",
    "    scramble(circuit,no_g)\n",
    "    return initial_prob_list\n",
    "    \n"
   ]
  },
  {
   "cell_type": "code",
   "execution_count": 520,
   "metadata": {},
   "outputs": [],
   "source": [
    "no_q = 10 #no of qubits\n",
    "no_g = 10 #no of gates\n",
    "shots = 100\n",
    "circuit = QuantumCircuit(no_q,no_q)\n",
    "initial_prob_list = benchmark(no_q,no_g,circuit)"
   ]
  },
  {
   "cell_type": "code",
   "execution_count": 521,
   "metadata": {},
   "outputs": [],
   "source": [
    "\n",
    "simulator = Aer.get_backend('qasm_simulator')\n",
    "result = execute(circuit,simulator,shots = shots,coupling_map=coupling_map,\n",
    "                 noise_model=noise_model,\n",
    "                 basis_gates=basis_gates).result()"
   ]
  },
  {
   "cell_type": "code",
   "execution_count": 522,
   "metadata": {},
   "outputs": [],
   "source": [
    "b = result.get_counts()#fix list size error \n",
    "keys = []\n",
    "b = dict((int(key), value) for (key, value) in b.items())\n",
    "for i in range(len(initial_prob_list)):\n",
    "    keys.append(int(bin(i)[2:]))\n",
    "for k in keys:\n",
    "    if (k not in b.keys()):\n",
    "        b.update({k:0})\n",
    "        \n",
    "b = SortedDict(b)\n",
    "final_prob_list = np.array(b.values())/shots\n"
   ]
  },
  {
   "cell_type": "code",
   "execution_count": 523,
   "metadata": {},
   "outputs": [
    {
     "name": "stdout",
     "output_type": "stream",
     "text": [
      "0.04097266747546663\n"
     ]
    }
   ],
   "source": [
    "print(fidelity(initial_prob_list,final_prob_list))"
   ]
  },
  {
   "cell_type": "code",
   "execution_count": 442,
   "metadata": {},
   "outputs": [
    {
     "name": "stdout",
     "output_type": "stream",
     "text": [
      "32\n"
     ]
    }
   ],
   "source": [
    "\n"
   ]
  },
  {
   "cell_type": "code",
   "execution_count": 454,
   "metadata": {},
   "outputs": [
    {
     "name": "stdout",
     "output_type": "stream",
     "text": [
      "[0, 1, 10, 11, 100, 101, 110, 111, 1000, 1001, 1010, 1011, 1100, 1101, 1110, 1111, 10000, 10001, 10010, 10011, 10100, 10101, 10110, 10111, 11000, 11001, 11010, 11011, 11100, 11101, 11110, 11111]\n"
     ]
    }
   ],
   "source": [
    "\n",
    "\n",
    "print(keys)"
   ]
  },
  {
   "cell_type": "code",
   "execution_count": 480,
   "metadata": {},
   "outputs": [
    {
     "name": "stdout",
     "output_type": "stream",
     "text": [
      "yes\n"
     ]
    }
   ],
   "source": [
    "a = [1,2,3]\n",
    "if( 5 not in a):\n",
    "    print('yes')"
   ]
  },
  {
   "cell_type": "code",
   "execution_count": 505,
   "metadata": {},
   "outputs": [
    {
     "name": "stdout",
     "output_type": "stream",
     "text": [
      "dict_keys([10001, 11101, 111, 11, 11001, 1011, 10010, 11100, 0, 10, 11000, 11011, 1100, 11111, 10111, 10100, 110, 100, 11110, 10000, 1, 10011, 11010, 1101, 1001, 1111, 1010, 10101, 101, 1000, 10110])\n"
     ]
    }
   ],
   "source": [
    "a = dict((int(key), value) for (key, value) in b.items())\n",
    "print(a.keys())"
   ]
  },
  {
   "cell_type": "code",
   "execution_count": null,
   "metadata": {},
   "outputs": [],
   "source": []
  }
 ],
 "metadata": {
  "kernelspec": {
   "display_name": "Python 3",
   "language": "python",
   "name": "python3"
  },
  "language_info": {
   "codemirror_mode": {
    "name": "ipython",
    "version": 3
   },
   "file_extension": ".py",
   "mimetype": "text/x-python",
   "name": "python",
   "nbconvert_exporter": "python",
   "pygments_lexer": "ipython3",
   "version": "3.7.3"
  }
 },
 "nbformat": 4,
 "nbformat_minor": 2
}
