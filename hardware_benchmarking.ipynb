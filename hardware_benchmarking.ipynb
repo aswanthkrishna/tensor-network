{
 "cells": [
  {
   "cell_type": "code",
   "execution_count": 3,
   "metadata": {},
   "outputs": [],
   "source": [
    "#imports\n",
    "from qiskit import*\n",
    "from qiskit.tools.visualization import plot_bloch_multivector\n",
    "from qiskit.tools.visualization import plot_histogram\n",
    "import numpy as np\n",
    "from numpy import linalg as LA\n",
    "import random\n",
    "from qiskit.extensions.simulator import snapshot\n",
    "from matplotlib import pyplot as plt\n",
    "from sortedcontainers import SortedDict\n",
    "from qiskit.extensions.simulator import snapshot\n",
    "from qiskit.providers.aer import noise\n",
    "%matplotlib inline\n",
    "from qiskit import IBMQ"
   ]
  },
  {
   "cell_type": "code",
   "execution_count": 4,
   "metadata": {},
   "outputs": [],
   "source": [
    "# Choose a real device to simulate\n",
    "IBMQ.load_account()\n",
    "provider = IBMQ.get_provider(group='open')\n",
    "device = provider.get_backend('ibmq_16_melbourne')\n",
    "properties = device.properties()\n",
    "coupling_map = device.configuration().coupling_map\n",
    "\n",
    "# Generate an Aer noise model for device\n",
    "noise_model = noise.device.basic_device_noise_model(properties)\n",
    "basis_gates = noise_model.basis_gates\n"
   ]
  },
  {
   "cell_type": "code",
   "execution_count": 5,
   "metadata": {},
   "outputs": [],
   "source": [
    "def probabilty_dist(state):\n",
    "    probability_list = []\n",
    "    for i in range(len(state)): \n",
    "        probability_list.append(np.absolute(state[i])**2)\n",
    "    return probability_list"
   ]
  },
  {
   "cell_type": "code",
   "execution_count": 6,
   "metadata": {},
   "outputs": [],
   "source": [
    "def fidelity(initial_prob_list,final_prob_list):\n",
    "    fidelity = 0\n",
    "    for i in range(len(initial_prob_list)):\n",
    "        fidelity += np.sqrt(initial_prob_list[i]*final_prob_list[i])\n",
    "    return fidelity**2"
   ]
  },
  {
   "cell_type": "code",
   "execution_count": 7,
   "metadata": {},
   "outputs": [],
   "source": [
    "def normalize(vector):\n",
    "    return vector / LA.norm(vector)\n",
    "\n",
    "def random_initialize(circuit,no_q):\n",
    "    initial_prob_list = []\n",
    "    state_list = []\n",
    "    for i in range(no_q):\n",
    "        state = np.array([complex(random.random(),random.random()),complex(random.random(),random.random())])\n",
    "        state = normalize(state)\n",
    "        state_list.append(state)\n",
    "        circuit.initialize(state.tolist(),i)\n",
    "    initial_state = state_list[0]\n",
    "    for i in range(1,no_q):\n",
    "        initial_state =  np.kron(state_list[i],initial_state)\n",
    "    initial_prob_list = probabilty_dist(initial_state)\n",
    "    return initial_prob_list\n"
   ]
  },
  {
   "cell_type": "code",
   "execution_count": 8,
   "metadata": {},
   "outputs": [],
   "source": [
    "def scramble(circuit,no_g):\n",
    "    l = []\n",
    "    #scramble\n",
    "    for i in range(no_g):\n",
    "        n = list(range(no_q))\n",
    "        a = random.choice(n)\n",
    "        n.remove(a)\n",
    "        b = random.choice(n)\n",
    "        l.append([a,b])\n",
    "        circuit.cx(a,b)\n",
    "    circuit.barrier()\n",
    "    #invert\n",
    "    for i in range(1,no_g + 1):\n",
    "        circuit.cx(l[-i][0],l[-i][1])\n",
    "    for i in range(no_q):\n",
    "        circuit.measure(i,i)\n",
    "    circuit.barrier()\n",
    "    "
   ]
  },
  {
   "cell_type": "code",
   "execution_count": 9,
   "metadata": {},
   "outputs": [],
   "source": [
    "def benchmark(no_q,no_g,circuit):\n",
    "    initial_prob_list = random_initialize(circuit,no_q)\n",
    "    scramble(circuit,no_g)\n",
    "    return initial_prob_list\n",
    "    \n"
   ]
  },
  {
   "cell_type": "code",
   "execution_count": 10,
   "metadata": {},
   "outputs": [],
   "source": [
    "def final_problist(b):\n",
    "    keys = []\n",
    "    b = dict((int(key), value) for (key, value) in b.items())\n",
    "    for i in range(len(initial_prob_list)):\n",
    "        keys.append(int(bin(i)[2:]))\n",
    "    for k in keys:\n",
    "        if (k not in b.keys()):\n",
    "            b.update({k:0})\n",
    "    b = SortedDict(b)\n",
    "    final_prob_list = np.array(b.values())/shots\n",
    "    return final_prob_list"
   ]
  },
  {
   "cell_type": "code",
   "execution_count": 15,
   "metadata": {},
   "outputs": [],
   "source": [
    "no_q = 5 #no of qubits\n",
    "no_g = 50 #no of gates\n",
    "shots = 100"
   ]
  },
  {
   "cell_type": "code",
   "execution_count": 12,
   "metadata": {},
   "outputs": [
    {
     "name": "stdout",
     "output_type": "stream",
     "text": [
      "0.7787763046885422\n"
     ]
    }
   ],
   "source": [
    "avg_fidelity = 0\n",
    "tries = 50\n",
    "for i in range(tries):\n",
    "    circuit = QuantumCircuit(no_q,no_q)\n",
    "    initial_prob_list = benchmark(no_q,no_g,circuit)\n",
    "    simulator = Aer.get_backend('qasm_simulator')\n",
    "    result = execute(circuit,simulator,shots = shots,coupling_map=coupling_map,\n",
    "                     noise_model=noise_model,\n",
    "                     basis_gates=basis_gates).result()\n",
    "    final_prob_list = final_problist(result.get_counts())\n",
    "    avg_fidelity += fidelity(initial_prob_list,final_prob_list)\n",
    "avg_fidelity = avg_fidelity/tries\n",
    "print(avg_fidelity)\n"
   ]
  },
  {
   "cell_type": "code",
   "execution_count": 16,
   "metadata": {},
   "outputs": [
    {
     "data": {
      "text/plain": [
       "[<matplotlib.lines.Line2D at 0x143cc6dea90>]"
      ]
     },
     "execution_count": 16,
     "metadata": {},
     "output_type": "execute_result"
    },
    {
     "data": {
      "image/png": "[encoded data removed]",
      "text/plain": [
       "<Figure size 432x288 with 1 Axes>"
      ]
     },
     "metadata": {
      "needs_background": "light"
     },
     "output_type": "display_data"
    }
   ],
   "source": [
    "no_g_list = np.arange(1,no_g)\n",
    "fidelity_list = np.zeros(len(no_g_list))\n",
    "for j in no_g_list:\n",
    "    avg_fidelity = 0\n",
    "    tries = 100\n",
    "    for i in range(tries):\n",
    "        circuit = QuantumCircuit(no_q,no_q)\n",
    "        initial_prob_list = benchmark(no_q,j,circuit)\n",
    "        simulator = Aer.get_backend('qasm_simulator')\n",
    "        result = execute(circuit,simulator,shots = shots,coupling_map=coupling_map,\n",
    "                         noise_model=noise_model,\n",
    "                         basis_gates=basis_gates).result()\n",
    "        final_prob_list = final_problist(result.get_counts())\n",
    "        avg_fidelity += fidelity(initial_prob_list,final_prob_list)\n",
    "    avg_fidelity = avg_fidelity/tries\n",
    "    fidelity_list[j-1] = avg_fidelity\n",
    "plt.plot(no_g_list,fidelity_list)\n"
   ]
  },
  {
   "cell_type": "code",
   "execution_count": null,
   "metadata": {},
   "outputs": [],
   "source": []
  },
  {
   "cell_type": "code",
   "execution_count": null,
   "metadata": {},
   "outputs": [],
   "source": [
    "job = execute(circuit, backend = device)\n",
    "from qiskit.tools.monitor import job_monitor\n",
    "job_monitor(job)\n"
   ]
  },
  {
   "cell_type": "code",
   "execution_count": 16,
   "metadata": {},
   "outputs": [
    {
     "ename": "QiskitError",
     "evalue": "'Index out of range.'",
     "output_type": "error",
     "traceback": [
      "\u001b[1;31m---------------------------------------------------------------------------\u001b[0m",
      "\u001b[1;31mIndexError\u001b[0m                                Traceback (most recent call last)",
      "\u001b[1;32mC:\\an\\lib\\site-packages\\qiskit\\circuit\\quantumcircuit.py\u001b[0m in \u001b[0;36m_bit_argument_conversion\u001b[1;34m(bit_representation, in_array)\u001b[0m\n\u001b[0;32m    283\u001b[0m                 \u001b[1;31m# circuit.h(0) -> circuit.h([qr[0]])\u001b[0m\u001b[1;33m\u001b[0m\u001b[1;33m\u001b[0m\u001b[1;33m\u001b[0m\u001b[0m\n\u001b[1;32m--> 284\u001b[1;33m                 \u001b[0mret\u001b[0m \u001b[1;33m=\u001b[0m \u001b[1;33m[\u001b[0m\u001b[0min_array\u001b[0m\u001b[1;33m[\u001b[0m\u001b[0mbit_representation\u001b[0m\u001b[1;33m]\u001b[0m\u001b[1;33m]\u001b[0m\u001b[1;33m\u001b[0m\u001b[1;33m\u001b[0m\u001b[0m\n\u001b[0m\u001b[0;32m    285\u001b[0m             \u001b[1;32melif\u001b[0m \u001b[0misinstance\u001b[0m\u001b[1;33m(\u001b[0m\u001b[0mbit_representation\u001b[0m\u001b[1;33m,\u001b[0m \u001b[0mslice\u001b[0m\u001b[1;33m)\u001b[0m\u001b[1;33m:\u001b[0m\u001b[1;33m\u001b[0m\u001b[1;33m\u001b[0m\u001b[0m\n",
      "\u001b[1;31mIndexError\u001b[0m: list index out of range",
      "\nDuring handling of the above exception, another exception occurred:\n",
      "\u001b[1;31mQiskitError\u001b[0m                               Traceback (most recent call last)",
      "\u001b[1;32m<ipython-input-16-2c96a1314f4f>\u001b[0m in \u001b[0;36m<module>\u001b[1;34m\u001b[0m\n\u001b[0;32m      6\u001b[0m     \u001b[1;32mfor\u001b[0m \u001b[0mi\u001b[0m \u001b[1;32min\u001b[0m \u001b[0mrange\u001b[0m\u001b[1;33m(\u001b[0m\u001b[0mtries\u001b[0m\u001b[1;33m)\u001b[0m\u001b[1;33m:\u001b[0m\u001b[1;33m\u001b[0m\u001b[1;33m\u001b[0m\u001b[0m\n\u001b[0;32m      7\u001b[0m         \u001b[0mcircuit\u001b[0m \u001b[1;33m=\u001b[0m \u001b[0mQuantumCircuit\u001b[0m\u001b[1;33m(\u001b[0m\u001b[0mint\u001b[0m\u001b[1;33m(\u001b[0m\u001b[0mj\u001b[0m\u001b[1;33m)\u001b[0m\u001b[1;33m,\u001b[0m\u001b[0mint\u001b[0m\u001b[1;33m(\u001b[0m\u001b[0mj\u001b[0m\u001b[1;33m)\u001b[0m\u001b[1;33m)\u001b[0m\u001b[1;33m\u001b[0m\u001b[1;33m\u001b[0m\u001b[0m\n\u001b[1;32m----> 8\u001b[1;33m         \u001b[0minitial_prob_list\u001b[0m \u001b[1;33m=\u001b[0m \u001b[0mbenchmark\u001b[0m\u001b[1;33m(\u001b[0m\u001b[0mint\u001b[0m\u001b[1;33m(\u001b[0m\u001b[0mj\u001b[0m\u001b[1;33m)\u001b[0m\u001b[1;33m,\u001b[0m\u001b[0mno_g\u001b[0m\u001b[1;33m,\u001b[0m\u001b[0mcircuit\u001b[0m\u001b[1;33m)\u001b[0m\u001b[1;33m\u001b[0m\u001b[1;33m\u001b[0m\u001b[0m\n\u001b[0m\u001b[0;32m      9\u001b[0m         \u001b[0msimulator\u001b[0m \u001b[1;33m=\u001b[0m \u001b[0mAer\u001b[0m\u001b[1;33m.\u001b[0m\u001b[0mget_backend\u001b[0m\u001b[1;33m(\u001b[0m\u001b[1;34m'qasm_simulator'\u001b[0m\u001b[1;33m)\u001b[0m\u001b[1;33m\u001b[0m\u001b[1;33m\u001b[0m\u001b[0m\n\u001b[0;32m     10\u001b[0m         result = execute(circuit,simulator,shots = shots,coupling_map=coupling_map,\n",
      "\u001b[1;32m<ipython-input-9-fd7eaa8e0163>\u001b[0m in \u001b[0;36mbenchmark\u001b[1;34m(no_q, no_g, circuit)\u001b[0m\n\u001b[0;32m      1\u001b[0m \u001b[1;32mdef\u001b[0m \u001b[0mbenchmark\u001b[0m\u001b[1;33m(\u001b[0m\u001b[0mno_q\u001b[0m\u001b[1;33m,\u001b[0m\u001b[0mno_g\u001b[0m\u001b[1;33m,\u001b[0m\u001b[0mcircuit\u001b[0m\u001b[1;33m)\u001b[0m\u001b[1;33m:\u001b[0m\u001b[1;33m\u001b[0m\u001b[1;33m\u001b[0m\u001b[0m\n\u001b[0;32m      2\u001b[0m     \u001b[0minitial_prob_list\u001b[0m \u001b[1;33m=\u001b[0m \u001b[0mrandom_initialize\u001b[0m\u001b[1;33m(\u001b[0m\u001b[0mcircuit\u001b[0m\u001b[1;33m,\u001b[0m\u001b[0mno_q\u001b[0m\u001b[1;33m)\u001b[0m\u001b[1;33m\u001b[0m\u001b[1;33m\u001b[0m\u001b[0m\n\u001b[1;32m----> 3\u001b[1;33m     \u001b[0mscramble\u001b[0m\u001b[1;33m(\u001b[0m\u001b[0mcircuit\u001b[0m\u001b[1;33m,\u001b[0m\u001b[0mno_g\u001b[0m\u001b[1;33m)\u001b[0m\u001b[1;33m\u001b[0m\u001b[1;33m\u001b[0m\u001b[0m\n\u001b[0m\u001b[0;32m      4\u001b[0m     \u001b[1;32mreturn\u001b[0m \u001b[0minitial_prob_list\u001b[0m\u001b[1;33m\u001b[0m\u001b[1;33m\u001b[0m\u001b[0m\n\u001b[0;32m      5\u001b[0m \u001b[1;33m\u001b[0m\u001b[0m\n",
      "\u001b[1;32m<ipython-input-8-1c942462f0ff>\u001b[0m in \u001b[0;36mscramble\u001b[1;34m(circuit, no_g)\u001b[0m\n\u001b[0;32m      8\u001b[0m         \u001b[0mb\u001b[0m \u001b[1;33m=\u001b[0m \u001b[0mrandom\u001b[0m\u001b[1;33m.\u001b[0m\u001b[0mchoice\u001b[0m\u001b[1;33m(\u001b[0m\u001b[0mn\u001b[0m\u001b[1;33m)\u001b[0m\u001b[1;33m\u001b[0m\u001b[1;33m\u001b[0m\u001b[0m\n\u001b[0;32m      9\u001b[0m         \u001b[0ml\u001b[0m\u001b[1;33m.\u001b[0m\u001b[0mappend\u001b[0m\u001b[1;33m(\u001b[0m\u001b[1;33m[\u001b[0m\u001b[0ma\u001b[0m\u001b[1;33m,\u001b[0m\u001b[0mb\u001b[0m\u001b[1;33m]\u001b[0m\u001b[1;33m)\u001b[0m\u001b[1;33m\u001b[0m\u001b[1;33m\u001b[0m\u001b[0m\n\u001b[1;32m---> 10\u001b[1;33m         \u001b[0mcircuit\u001b[0m\u001b[1;33m.\u001b[0m\u001b[0mcx\u001b[0m\u001b[1;33m(\u001b[0m\u001b[0ma\u001b[0m\u001b[1;33m,\u001b[0m\u001b[0mb\u001b[0m\u001b[1;33m)\u001b[0m\u001b[1;33m\u001b[0m\u001b[1;33m\u001b[0m\u001b[0m\n\u001b[0m\u001b[0;32m     11\u001b[0m     \u001b[0mcircuit\u001b[0m\u001b[1;33m.\u001b[0m\u001b[0mbarrier\u001b[0m\u001b[1;33m(\u001b[0m\u001b[1;33m)\u001b[0m\u001b[1;33m\u001b[0m\u001b[1;33m\u001b[0m\u001b[0m\n\u001b[0;32m     12\u001b[0m     \u001b[1;31m#invert\u001b[0m\u001b[1;33m\u001b[0m\u001b[1;33m\u001b[0m\u001b[1;33m\u001b[0m\u001b[0m\n",
      "\u001b[1;32mC:\\an\\lib\\site-packages\\qiskit\\extensions\\standard\\cx.py\u001b[0m in \u001b[0;36mcx\u001b[1;34m(self, ctl, tgt)\u001b[0m\n\u001b[0;32m     46\u001b[0m \u001b[1;32mdef\u001b[0m \u001b[0mcx\u001b[0m\u001b[1;33m(\u001b[0m\u001b[0mself\u001b[0m\u001b[1;33m,\u001b[0m \u001b[0mctl\u001b[0m\u001b[1;33m,\u001b[0m \u001b[0mtgt\u001b[0m\u001b[1;33m)\u001b[0m\u001b[1;33m:\u001b[0m\u001b[1;33m\u001b[0m\u001b[1;33m\u001b[0m\u001b[0m\n\u001b[0;32m     47\u001b[0m     \u001b[1;34m\"\"\"Apply CX from ctl to tgt.\"\"\"\u001b[0m\u001b[1;33m\u001b[0m\u001b[1;33m\u001b[0m\u001b[0m\n\u001b[1;32m---> 48\u001b[1;33m     \u001b[1;32mreturn\u001b[0m \u001b[0mself\u001b[0m\u001b[1;33m.\u001b[0m\u001b[0mappend\u001b[0m\u001b[1;33m(\u001b[0m\u001b[0mCnotGate\u001b[0m\u001b[1;33m(\u001b[0m\u001b[1;33m)\u001b[0m\u001b[1;33m,\u001b[0m \u001b[1;33m[\u001b[0m\u001b[0mctl\u001b[0m\u001b[1;33m,\u001b[0m \u001b[0mtgt\u001b[0m\u001b[1;33m]\u001b[0m\u001b[1;33m,\u001b[0m \u001b[1;33m[\u001b[0m\u001b[1;33m]\u001b[0m\u001b[1;33m)\u001b[0m\u001b[1;33m\u001b[0m\u001b[1;33m\u001b[0m\u001b[0m\n\u001b[0m\u001b[0;32m     49\u001b[0m \u001b[1;33m\u001b[0m\u001b[0m\n\u001b[0;32m     50\u001b[0m \u001b[1;33m\u001b[0m\u001b[0m\n",
      "\u001b[1;32mC:\\an\\lib\\site-packages\\qiskit\\circuit\\quantumcircuit.py\u001b[0m in \u001b[0;36mappend\u001b[1;34m(self, instruction, qargs, cargs)\u001b[0m\n\u001b[0;32m    352\u001b[0m             \u001b[0minstruction\u001b[0m \u001b[1;33m=\u001b[0m \u001b[0minstruction\u001b[0m\u001b[1;33m.\u001b[0m\u001b[0mto_instruction\u001b[0m\u001b[1;33m(\u001b[0m\u001b[1;33m)\u001b[0m\u001b[1;33m\u001b[0m\u001b[1;33m\u001b[0m\u001b[0m\n\u001b[0;32m    353\u001b[0m \u001b[1;33m\u001b[0m\u001b[0m\n\u001b[1;32m--> 354\u001b[1;33m         \u001b[0mexpanded_qargs\u001b[0m \u001b[1;33m=\u001b[0m \u001b[1;33m[\u001b[0m\u001b[0mself\u001b[0m\u001b[1;33m.\u001b[0m\u001b[0mqbit_argument_conversion\u001b[0m\u001b[1;33m(\u001b[0m\u001b[0mqarg\u001b[0m\u001b[1;33m)\u001b[0m \u001b[1;32mfor\u001b[0m \u001b[0mqarg\u001b[0m \u001b[1;32min\u001b[0m \u001b[0mqargs\u001b[0m \u001b[1;32mor\u001b[0m \u001b[1;33m[\u001b[0m\u001b[1;33m]\u001b[0m\u001b[1;33m]\u001b[0m\u001b[1;33m\u001b[0m\u001b[1;33m\u001b[0m\u001b[0m\n\u001b[0m\u001b[0;32m    355\u001b[0m         \u001b[0mexpanded_cargs\u001b[0m \u001b[1;33m=\u001b[0m \u001b[1;33m[\u001b[0m\u001b[0mself\u001b[0m\u001b[1;33m.\u001b[0m\u001b[0mcbit_argument_conversion\u001b[0m\u001b[1;33m(\u001b[0m\u001b[0mcarg\u001b[0m\u001b[1;33m)\u001b[0m \u001b[1;32mfor\u001b[0m \u001b[0mcarg\u001b[0m \u001b[1;32min\u001b[0m \u001b[0mcargs\u001b[0m \u001b[1;32mor\u001b[0m \u001b[1;33m[\u001b[0m\u001b[1;33m]\u001b[0m\u001b[1;33m]\u001b[0m\u001b[1;33m\u001b[0m\u001b[1;33m\u001b[0m\u001b[0m\n\u001b[0;32m    356\u001b[0m \u001b[1;33m\u001b[0m\u001b[0m\n",
      "\u001b[1;32mC:\\an\\lib\\site-packages\\qiskit\\circuit\\quantumcircuit.py\u001b[0m in \u001b[0;36m<listcomp>\u001b[1;34m(.0)\u001b[0m\n\u001b[0;32m    352\u001b[0m             \u001b[0minstruction\u001b[0m \u001b[1;33m=\u001b[0m \u001b[0minstruction\u001b[0m\u001b[1;33m.\u001b[0m\u001b[0mto_instruction\u001b[0m\u001b[1;33m(\u001b[0m\u001b[1;33m)\u001b[0m\u001b[1;33m\u001b[0m\u001b[1;33m\u001b[0m\u001b[0m\n\u001b[0;32m    353\u001b[0m \u001b[1;33m\u001b[0m\u001b[0m\n\u001b[1;32m--> 354\u001b[1;33m         \u001b[0mexpanded_qargs\u001b[0m \u001b[1;33m=\u001b[0m \u001b[1;33m[\u001b[0m\u001b[0mself\u001b[0m\u001b[1;33m.\u001b[0m\u001b[0mqbit_argument_conversion\u001b[0m\u001b[1;33m(\u001b[0m\u001b[0mqarg\u001b[0m\u001b[1;33m)\u001b[0m \u001b[1;32mfor\u001b[0m \u001b[0mqarg\u001b[0m \u001b[1;32min\u001b[0m \u001b[0mqargs\u001b[0m \u001b[1;32mor\u001b[0m \u001b[1;33m[\u001b[0m\u001b[1;33m]\u001b[0m\u001b[1;33m]\u001b[0m\u001b[1;33m\u001b[0m\u001b[1;33m\u001b[0m\u001b[0m\n\u001b[0m\u001b[0;32m    355\u001b[0m         \u001b[0mexpanded_cargs\u001b[0m \u001b[1;33m=\u001b[0m \u001b[1;33m[\u001b[0m\u001b[0mself\u001b[0m\u001b[1;33m.\u001b[0m\u001b[0mcbit_argument_conversion\u001b[0m\u001b[1;33m(\u001b[0m\u001b[0mcarg\u001b[0m\u001b[1;33m)\u001b[0m \u001b[1;32mfor\u001b[0m \u001b[0mcarg\u001b[0m \u001b[1;32min\u001b[0m \u001b[0mcargs\u001b[0m \u001b[1;32mor\u001b[0m \u001b[1;33m[\u001b[0m\u001b[1;33m]\u001b[0m\u001b[1;33m]\u001b[0m\u001b[1;33m\u001b[0m\u001b[1;33m\u001b[0m\u001b[0m\n\u001b[0;32m    356\u001b[0m \u001b[1;33m\u001b[0m\u001b[0m\n",
      "\u001b[1;32mC:\\an\\lib\\site-packages\\qiskit\\circuit\\quantumcircuit.py\u001b[0m in \u001b[0;36mqbit_argument_conversion\u001b[1;34m(self, qubit_representation)\u001b[0m\n\u001b[0;32m    321\u001b[0m             \u001b[0mList\u001b[0m\u001b[1;33m(\u001b[0m\u001b[0mtuple\u001b[0m\u001b[1;33m)\u001b[0m\u001b[1;33m:\u001b[0m \u001b[0mWhere\u001b[0m \u001b[0meach\u001b[0m \u001b[0mtuple\u001b[0m \u001b[1;32mis\u001b[0m \u001b[0ma\u001b[0m \u001b[0mqubit\u001b[0m\u001b[1;33m.\u001b[0m\u001b[1;33m\u001b[0m\u001b[1;33m\u001b[0m\u001b[0m\n\u001b[0;32m    322\u001b[0m         \"\"\"\n\u001b[1;32m--> 323\u001b[1;33m         \u001b[1;32mreturn\u001b[0m \u001b[0mQuantumCircuit\u001b[0m\u001b[1;33m.\u001b[0m\u001b[0m_bit_argument_conversion\u001b[0m\u001b[1;33m(\u001b[0m\u001b[0mqubit_representation\u001b[0m\u001b[1;33m,\u001b[0m \u001b[0mself\u001b[0m\u001b[1;33m.\u001b[0m\u001b[0mqubits\u001b[0m\u001b[1;33m)\u001b[0m\u001b[1;33m\u001b[0m\u001b[1;33m\u001b[0m\u001b[0m\n\u001b[0m\u001b[0;32m    324\u001b[0m \u001b[1;33m\u001b[0m\u001b[0m\n\u001b[0;32m    325\u001b[0m     \u001b[1;32mdef\u001b[0m \u001b[0mcbit_argument_conversion\u001b[0m\u001b[1;33m(\u001b[0m\u001b[0mself\u001b[0m\u001b[1;33m,\u001b[0m \u001b[0mclbit_representation\u001b[0m\u001b[1;33m)\u001b[0m\u001b[1;33m:\u001b[0m\u001b[1;33m\u001b[0m\u001b[1;33m\u001b[0m\u001b[0m\n",
      "\u001b[1;32mC:\\an\\lib\\site-packages\\qiskit\\circuit\\quantumcircuit.py\u001b[0m in \u001b[0;36m_bit_argument_conversion\u001b[1;34m(bit_representation, in_array)\u001b[0m\n\u001b[0;32m    304\u001b[0m                                                                     type(bit_representation)))\n\u001b[0;32m    305\u001b[0m         \u001b[1;32mexcept\u001b[0m \u001b[0mIndexError\u001b[0m\u001b[1;33m:\u001b[0m\u001b[1;33m\u001b[0m\u001b[1;33m\u001b[0m\u001b[0m\n\u001b[1;32m--> 306\u001b[1;33m             \u001b[1;32mraise\u001b[0m \u001b[0mQiskitError\u001b[0m\u001b[1;33m(\u001b[0m\u001b[1;34m'Index out of range.'\u001b[0m\u001b[1;33m)\u001b[0m\u001b[1;33m\u001b[0m\u001b[1;33m\u001b[0m\u001b[0m\n\u001b[0m\u001b[0;32m    307\u001b[0m         \u001b[1;32mexcept\u001b[0m \u001b[0mTypeError\u001b[0m\u001b[1;33m:\u001b[0m\u001b[1;33m\u001b[0m\u001b[1;33m\u001b[0m\u001b[0m\n\u001b[0;32m    308\u001b[0m             raise QiskitError('Type error handling %s (%s)' % (bit_representation,\n",
      "\u001b[1;31mQiskitError\u001b[0m: 'Index out of range.'"
     ]
    }
   ],
   "source": [
    "no_q_list = np.arange(3,no_q + 2)\n",
    "fidelity_list = np.zeros(len(no_q_list))\n",
    "for j in no_q_list:\n",
    "    avg_fidelity = 0\n",
    "    tries = 50\n",
    "    for i in range(tries):\n",
    "        circuit = QuantumCircuit(int(j),int(j))\n",
    "        initial_prob_list = benchmark(int(j),no_g,circuit)\n",
    "        simulator = Aer.get_backend('qasm_simulator')\n",
    "        result = execute(circuit,simulator,shots = shots,coupling_map=coupling_map,\n",
    "                         noise_model=noise_model,\n",
    "                         basis_gates=basis_gates).result()\n",
    "        final_prob_list = final_problist(result.get_counts())\n",
    "        avg_fidelity += fidelity(initial_prob_list,final_prob_list)\n",
    "    avg_fidelity = avg_fidelity/tries\n",
    "    fidelity_list[j-3] = avg_fidelity\n",
    "plt.plot(no_q_list,fidelity_list)"
   ]
  },
  {
   "cell_type": "code",
   "execution_count": 13,
   "metadata": {},
   "outputs": [
    {
     "name": "stdout",
     "output_type": "stream",
     "text": [
      "[3 4 5]\n"
     ]
    }
   ],
   "source": []
  },
  {
   "cell_type": "code",
   "execution_count": null,
   "metadata": {},
   "outputs": [],
   "source": []
  }
 ],
 "metadata": {
  "kernelspec": {
   "display_name": "Python 3",
   "language": "python",
   "name": "python3"
  },
  "language_info": {
   "codemirror_mode": {
    "name": "ipython",
    "version": 3
   },
   "file_extension": ".py",
   "mimetype": "text/x-python",
   "name": "python",
   "nbconvert_exporter": "python",
   "pygments_lexer": "ipython3",
   "version": "3.7.3"
  }
 },
 "nbformat": 4,
 "nbformat_minor": 2
}
