{
 "cells": [
  {
   "cell_type": "code",
   "execution_count": 27,
   "metadata": {},
   "outputs": [],
   "source": [
    "import pennylane as qml\n",
    "from pennylane import numpy as np\n",
    "import qiskit\n",
    "import math\n",
    "from sklearn import datasets\n",
    "from sklearn.model_selection import train_test_split\n",
    "from sklearn.preprocessing import OneHotEncoder\n",
    "from pennylane.optimize import NesterovMomentumOptimizer\n",
    "from sklearn.utils import shuffle\n",
    "import random\n",
    "import matplotlib.pyplot as plt\n",
    "%matplotlib inline\n",
    "import pandas as pd"
   ]
  },
  {
   "cell_type": "code",
   "execution_count": 3,
   "metadata": {},
   "outputs": [],
   "source": [
    "#initialise pennylane QNode with 4 qubits\n",
    "dev = qml.device(\"default.qubit\", wires=4,shots = 50)"
   ]
  },
  {
   "cell_type": "code",
   "execution_count": 4,
   "metadata": {},
   "outputs": [],
   "source": [
    "#load data for training and validation\n",
    "iris = datasets.load_iris()\n",
    "idx = iris.target != 2\n",
    "features = iris.data[idx].astype(np.float32)\n",
    "labels = iris.target[idx].astype(np.float32)"
   ]
  },
  {
   "cell_type": "code",
   "execution_count": 5,
   "metadata": {},
   "outputs": [],
   "source": [
    "#split data into training and validation sets\n",
    "np.random.seed(0)\n",
    "num_data = len(features)\n",
    "num_train = int(0.75 * num_data)\n",
    "index = np.random.permutation(range(num_data))\n",
    "features_train = features[index[:num_train]]\n",
    "labels_train = labels[index[:num_train]]\n",
    "features_val = features[index[num_train:]]\n",
    "labels_val = labels[index[num_train:]]"
   ]
  },
  {
   "cell_type": "markdown",
   "metadata": {},
   "source": []
  },
  {
   "cell_type": "code",
   "execution_count": 6,
   "metadata": {},
   "outputs": [],
   "source": [
    "\n",
    "#fuction for encoding features into the amplitudes of the 4 qubits,\n",
    "#the features(b[i]) are scaled to lie between (0,pi/2) and encoded \n",
    "#as cos(b[i])|0 > + sin(b[i])|1 >\n",
    "def statepreparation(b):\n",
    "    for i in range(4):\n",
    "        qml.RY(np.cos(np.pi*b[i]/max(b)), wires=i)\n",
    "\n",
    "    "
   ]
  },
  {
   "cell_type": "code",
   "execution_count": 7,
   "metadata": {},
   "outputs": [],
   "source": [
    "#paramatrised TTN circuit with 3 layers,returns <Z> of 3rd Qubit. This is used as the label\n",
    "#for the classifiaction\n",
    "@qml.qnode(dev)\n",
    "def circuit(params,a = None):\n",
    "    statepreparation(a)\n",
    "    qml.RY(params[0],wires = 0)\n",
    "    qml.RY(params[1],wires = 1)\n",
    "    qml.RY(params[2],wires = 2)\n",
    "    qml.RY(params[3],wires = 3)\n",
    "    qml.CNOT(wires = [1,0])\n",
    "    qml.CNOT(wires = [3,2])\n",
    "    qml.RY(params[4],wires = 1)\n",
    "    qml.RY(params[5],wires = 2)\n",
    "    qml.CNOT(wires = [1,2])\n",
    "    qml.RY(params[6],wires = 2)\n",
    "    return qml.expval(qml.PauliZ(2))"
   ]
  },
  {
   "cell_type": "code",
   "execution_count": 8,
   "metadata": {},
   "outputs": [],
   "source": [
    "def square_loss(labels, predictions):\n",
    "    loss = 0\n",
    "    for l, p in zip(labels, predictions):\n",
    "        loss = loss + (l - p) ** 2\n",
    "\n",
    "    loss = loss / len(labels)\n",
    "    return loss"
   ]
  },
  {
   "cell_type": "code",
   "execution_count": 9,
   "metadata": {},
   "outputs": [],
   "source": [
    "def accuracy(labels, predictions):\n",
    "\n",
    "    loss = 0\n",
    "    for l, p in zip(labels, predictions):\n",
    "        if abs(l - p) < 1e-5:\n",
    "            loss = loss + 1\n",
    "    loss = loss / len(labels)\n",
    "\n",
    "    return loss"
   ]
  },
  {
   "cell_type": "code",
   "execution_count": 10,
   "metadata": {},
   "outputs": [],
   "source": [
    "def cost(params,features,labels):\n",
    "    predictions = [circuit(params, a=f) for f in features]\n",
    "    return square_loss(labels, predictions)\n",
    "   "
   ]
  },
  {
   "cell_type": "code",
   "execution_count": 16,
   "metadata": {},
   "outputs": [
    {
     "name": "stdout",
     "output_type": "stream",
     "text": [
      "Iter:     1 | Cost: 0.3377316 | Acc train: 0.5200000 | Acc validation: 0.4800000 \n",
      "Iter:     2 | Cost: 0.3235450 | Acc train: 0.5333333 | Acc validation: 0.4800000 \n",
      "Iter:     3 | Cost: 0.3050162 | Acc train: 0.5333333 | Acc validation: 0.4800000 \n",
      "Iter:     4 | Cost: 0.2844399 | Acc train: 0.5333333 | Acc validation: 0.4800000 \n",
      "Iter:     5 | Cost: 0.2603515 | Acc train: 0.5466667 | Acc validation: 0.5200000 \n",
      "Iter:     6 | Cost: 0.2355350 | Acc train: 0.5600000 | Acc validation: 0.5200000 \n",
      "Iter:     7 | Cost: 0.2116550 | Acc train: 0.5733333 | Acc validation: 0.5200000 \n",
      "Iter:     8 | Cost: 0.1895039 | Acc train: 0.6000000 | Acc validation: 0.5200000 \n",
      "Iter:     9 | Cost: 0.1694259 | Acc train: 0.6266667 | Acc validation: 0.5600000 \n",
      "Iter:    10 | Cost: 0.1505679 | Acc train: 0.6933333 | Acc validation: 0.6800000 \n",
      "Iter:    11 | Cost: 0.1337834 | Acc train: 0.7333333 | Acc validation: 0.7200000 \n",
      "Iter:    12 | Cost: 0.1190910 | Acc train: 0.8000000 | Acc validation: 0.7600000 \n",
      "Iter:    13 | Cost: 0.1056740 | Acc train: 0.9333333 | Acc validation: 0.8800000 \n",
      "Iter:    14 | Cost: 0.0950432 | Acc train: 0.9733333 | Acc validation: 0.9200000 \n",
      "Iter:    15 | Cost: 0.0858332 | Acc train: 0.9733333 | Acc validation: 1.0000000 \n",
      "Iter:    16 | Cost: 0.0778131 | Acc train: 0.9866667 | Acc validation: 1.0000000 \n",
      "Iter:    17 | Cost: 0.0714136 | Acc train: 1.0000000 | Acc validation: 1.0000000 \n",
      "Iter:    18 | Cost: 0.0656995 | Acc train: 1.0000000 | Acc validation: 1.0000000 \n",
      "Iter:    19 | Cost: 0.0609027 | Acc train: 1.0000000 | Acc validation: 1.0000000 \n",
      "Iter:    20 | Cost: 0.0567063 | Acc train: 1.0000000 | Acc validation: 1.0000000 \n",
      "Iter:    21 | Cost: 0.0526718 | Acc train: 1.0000000 | Acc validation: 1.0000000 \n",
      "Iter:    22 | Cost: 0.0487950 | Acc train: 1.0000000 | Acc validation: 1.0000000 \n",
      "Iter:    23 | Cost: 0.0449816 | Acc train: 1.0000000 | Acc validation: 1.0000000 \n",
      "Iter:    24 | Cost: 0.0411717 | Acc train: 1.0000000 | Acc validation: 1.0000000 \n",
      "Iter:    25 | Cost: 0.0374990 | Acc train: 1.0000000 | Acc validation: 1.0000000 \n",
      "Iter:    26 | Cost: 0.0340785 | Acc train: 1.0000000 | Acc validation: 1.0000000 \n",
      "Iter:    27 | Cost: 0.0309939 | Acc train: 1.0000000 | Acc validation: 1.0000000 \n",
      "Iter:    28 | Cost: 0.0281871 | Acc train: 1.0000000 | Acc validation: 1.0000000 \n",
      "Iter:    29 | Cost: 0.0255703 | Acc train: 1.0000000 | Acc validation: 1.0000000 \n",
      "Iter:    30 | Cost: 0.0233093 | Acc train: 1.0000000 | Acc validation: 1.0000000 \n",
      "Iter:    31 | Cost: 0.0212975 | Acc train: 1.0000000 | Acc validation: 1.0000000 \n",
      "Iter:    32 | Cost: 0.0196395 | Acc train: 1.0000000 | Acc validation: 1.0000000 \n",
      "Iter:    33 | Cost: 0.0182377 | Acc train: 1.0000000 | Acc validation: 1.0000000 \n",
      "Iter:    34 | Cost: 0.0170330 | Acc train: 1.0000000 | Acc validation: 1.0000000 \n",
      "Iter:    35 | Cost: 0.0160590 | Acc train: 1.0000000 | Acc validation: 1.0000000 \n",
      "Iter:    36 | Cost: 0.0152720 | Acc train: 1.0000000 | Acc validation: 1.0000000 \n",
      "Iter:    37 | Cost: 0.0146320 | Acc train: 1.0000000 | Acc validation: 1.0000000 \n",
      "Iter:    38 | Cost: 0.0141187 | Acc train: 1.0000000 | Acc validation: 1.0000000 \n",
      "Iter:    39 | Cost: 0.0137198 | Acc train: 1.0000000 | Acc validation: 1.0000000 \n",
      "Iter:    40 | Cost: 0.0133796 | Acc train: 1.0000000 | Acc validation: 1.0000000 \n",
      "Iter:    41 | Cost: 0.0130449 | Acc train: 1.0000000 | Acc validation: 1.0000000 \n",
      "Iter:    42 | Cost: 0.0127267 | Acc train: 1.0000000 | Acc validation: 1.0000000 \n",
      "Iter:    43 | Cost: 0.0124088 | Acc train: 1.0000000 | Acc validation: 1.0000000 \n",
      "Iter:    44 | Cost: 0.0120854 | Acc train: 1.0000000 | Acc validation: 1.0000000 \n",
      "Iter:    45 | Cost: 0.0117558 | Acc train: 1.0000000 | Acc validation: 1.0000000 \n",
      "Iter:    46 | Cost: 0.0114353 | Acc train: 1.0000000 | Acc validation: 1.0000000 \n",
      "Iter:    47 | Cost: 0.0111266 | Acc train: 1.0000000 | Acc validation: 1.0000000 \n",
      "Iter:    48 | Cost: 0.0108355 | Acc train: 1.0000000 | Acc validation: 1.0000000 \n",
      "Iter:    49 | Cost: 0.0105550 | Acc train: 1.0000000 | Acc validation: 1.0000000 \n",
      "Iter:    50 | Cost: 0.0102815 | Acc train: 1.0000000 | Acc validation: 1.0000000 \n",
      "Iter:    51 | Cost: 0.0100331 | Acc train: 1.0000000 | Acc validation: 1.0000000 \n",
      "Iter:    52 | Cost: 0.0098474 | Acc train: 1.0000000 | Acc validation: 1.0000000 \n",
      "Iter:    53 | Cost: 0.0096587 | Acc train: 1.0000000 | Acc validation: 1.0000000 \n",
      "Iter:    54 | Cost: 0.0094842 | Acc train: 1.0000000 | Acc validation: 1.0000000 \n",
      "Iter:    55 | Cost: 0.0093197 | Acc train: 1.0000000 | Acc validation: 1.0000000 \n",
      "Iter:    56 | Cost: 0.0091699 | Acc train: 1.0000000 | Acc validation: 1.0000000 \n",
      "Iter:    57 | Cost: 0.0090372 | Acc train: 1.0000000 | Acc validation: 1.0000000 \n",
      "Iter:    58 | Cost: 0.0089099 | Acc train: 1.0000000 | Acc validation: 1.0000000 \n",
      "Iter:    59 | Cost: 0.0087844 | Acc train: 1.0000000 | Acc validation: 1.0000000 \n",
      "Iter:    60 | Cost: 0.0086673 | Acc train: 1.0000000 | Acc validation: 1.0000000 \n",
      "Optimized rotation angles: [ 0.71084077  0.02889237  0.09987318 -0.34253389  0.17154279  0.41787331\n",
      "  0.25096693]\n"
     ]
    }
   ],
   "source": [
    "# initialise the optimizer\n",
    "opt = NesterovMomentumOptimizer(0.01)\n",
    "\n",
    "#batch_sie for stochastic Gradient Descent\n",
    "batch_size = 5\n",
    "\n",
    "# set the number of steps\n",
    "steps = 60\n",
    "# set the initial parameter values\n",
    "init_params = np.random.rand(7)\n",
    "params = init_params\n",
    "cost_list = np.zeros(steps)\n",
    "acc_train_list = np.zeros(steps)\n",
    "acc_val_list = np.zeros(steps)\n",
    "\n",
    "for it in range(steps):\n",
    "    \n",
    "     # Update the weights by one optimizer step\n",
    "    batch_index = np.random.randint(0, num_train, (batch_size,))\n",
    "    features_train_batch = features_train[batch_index]\n",
    "    labels_train_batch = labels_train[batch_index]\n",
    "    params = opt.step(lambda v: cost(v, features_train_batch, labels_train_batch), params)\n",
    "\n",
    "    # Compute predictions on train and validation set\n",
    "    \n",
    "    \n",
    "    predictions_train = np.array([(circuit(params, a=f)) for f in features_train])\n",
    "\n",
    "    #thresholding the predicted labels\n",
    "    predictions_train[predictions_train > 0.5] = 1\n",
    "    predictions_train[predictions_train < 0.5] = 0\n",
    "    predictions_val = np.array([(circuit(params, a=f)) for f in features_val])\n",
    "    predictions_val[predictions_val > 0.5] = 1\n",
    "    predictions_val[predictions_val < 0.5] = 0\n",
    "    \n",
    "    \n",
    "    # Compute accuracy on train and validation set\n",
    "    acc_train_list[it] = accuracy(labels_train, predictions_train)\n",
    "    acc_val_list[it] = accuracy(labels_val, predictions_val)\n",
    "    \n",
    "    cost_list[it] = cost(params, features, labels)\n",
    "    print(\n",
    "        \"Iter: {:5d} | Cost: {:0.7f} | Acc train: {:0.7f} | Acc validation: {:0.7f} \"\n",
    "        \"\".format(it + 1,cost_list[it] , acc_train_list[it], acc_val_list[it])\n",
    "    )\n",
    "\n",
    "print(\"Optimized rotation angles: {}\".format(params))\n",
    "\n",
    "\n"
   ]
  },
  {
   "cell_type": "code",
   "execution_count": 42,
   "metadata": {},
   "outputs": [
    {
     "data": {
      "text/plain": [
       "Text(0, 0.5, 'accuracy')"
      ]
     },
     "execution_count": 42,
     "metadata": {},
     "output_type": "execute_result"
    },
    {
     "data": {
      "image/png": "[encoded data removed]",
      "text/plain": [
       "<Figure size 432x288 with 1 Axes>"
      ]
     },
     "metadata": {
      "needs_background": "light"
     },
     "output_type": "display_data"
    }
   ],
   "source": [
    "#plot of cost function vs time steps\n",
    "plt.plot(range(steps),cost_list,color ='b',linewidth=3)\n",
    "plt.xlabel('number of steps')\n",
    "plt.xlabel('number of steps')\n",
    "plt.ylabel('accuracy')"
   ]
  },
  {
   "cell_type": "code",
   "execution_count": 31,
   "metadata": {},
   "outputs": [
    {
     "data": {
      "text/plain": [
       "Text(0, 0.5, 'accuracy')"
      ]
     },
     "execution_count": 31,
     "metadata": {},
     "output_type": "execute_result"
    },
    {
     "data": {
      "image/png": "[encoded data removed]",
      "text/plain": [
       "<Figure size 432x288 with 1 Axes>"
      ]
     },
     "metadata": {
      "needs_background": "light"
     },
     "output_type": "display_data"
    }
   ],
   "source": [
    "# plot of accuracy vs time steps\n",
    "df=pd.DataFrame({'number of steps': range(steps),  \n",
    "                 'training accuracy': acc_train_list,\n",
    "                 'test accuracy': acc_val_list })\n",
    "\n",
    "plt.plot( 'number of steps', 'training accuracy', data=df,color ='c',linewidth=3)\n",
    "plt.plot('number of steps','test accuracy', data = df,color ='b',linewidth=3)\n",
    "plt.legend()\n",
    "plt.xlabel('number of steps')\n",
    "plt.ylabel('accuracy')"
   ]
  }
 ],
 "metadata": {
  "kernelspec": {
   "display_name": "Python 3",
   "language": "python",
   "name": "python3"
  },
  "language_info": {
   "codemirror_mode": {
    "name": "ipython",
    "version": 3
   },
   "file_extension": ".py",
   "mimetype": "text/x-python",
   "name": "python",
   "nbconvert_exporter": "python",
   "pygments_lexer": "ipython3",
   "version": "3.7.3"
  }
 },
 "nbformat": 4,
 "nbformat_minor": 2
}
