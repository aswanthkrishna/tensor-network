{
 "cells": [
  {
   "cell_type": "code",
   "execution_count": 2,
   "metadata": {},
   "outputs": [],
   "source": [
    "#imports\n",
    "from qiskit import*\n",
    "from qiskit.tools.visualization import plot_bloch_multivector\n",
    "import numpy as np\n",
    "from numpy import linalg as LA\n",
    "import random\n",
    "from qiskit.extensions.simulator import snapshot\n",
    "from matplotlib import pyplot as plt"
   ]
  },
  {
   "cell_type": "code",
   "execution_count": 3,
   "metadata": {},
   "outputs": [],
   "source": [
    "#initialize state vector\n",
    "\n",
    "def normalize(vector):\n",
    "    return vector / LA.norm(vector)\n",
    "\n",
    "def initialize( vector ):\n",
    "    circuit.initialize(vector.tolist(),0)\n",
    "    for i in range(1,3):\n",
    "            circuit.initialize([1,0],i)\n"
   ]
  },
  {
   "cell_type": "code",
   "execution_count": 4,
   "metadata": {},
   "outputs": [],
   "source": [
    "#encode\n",
    "def encode():\n",
    "    circuit.cx(0,1)\n",
    "    circuit.cx(0,2)\n"
   ]
  },
  {
   "cell_type": "code",
   "execution_count": 5,
   "metadata": {},
   "outputs": [],
   "source": [
    "def error(error_bitflip):\n",
    "    circuit.barrier()\n",
    "    for i in range(3):\n",
    "        if(random.random() < error_bitflip):\n",
    "            circuit.x(i)\n",
    "    circuit.barrier()\n",
    "   "
   ]
  },
  {
   "cell_type": "code",
   "execution_count": 6,
   "metadata": {},
   "outputs": [],
   "source": [
    "#correction\n",
    "def correct():\n",
    "    circuit.cx(0,1)\n",
    "    circuit.cx(0,2)\n",
    "    circuit.ccx(2,1,0)\n",
    "    \n",
    "    circuit.snapshot(\"one_qubit\", qubits=[0])\n",
    "    \n"
   ]
  },
  {
   "cell_type": "code",
   "execution_count": 19,
   "metadata": {},
   "outputs": [],
   "source": [
    "\n",
    "def run(circuit,error_prob):\n",
    "        initial_state = [complex(random.random(),random.random()),complex(random.random(),random.random())]\n",
    "        #initial_state = [0,1]\n",
    "        initial_state = normalize(initial_state)\n",
    "        initialize(initial_state)\n",
    "        encode()\n",
    "        error(error_prob)\n",
    "        correct()\n",
    "        return initial_state\n"
   ]
  },
  {
   "cell_type": "code",
   "execution_count": 12,
   "metadata": {},
   "outputs": [
    {
     "name": "stdout",
     "output_type": "stream",
     "text": [
      "[1.0, 0.892, 0.816, 0.705, 0.64, 0.562, 0.491, 0.427, 0.375, 0.325, 0.286, 0.24, 0.224, 0.187, 0.121, 0.121, 0.11, 0.058, 0.048, 0.041, 0.017, 0.018, 0.014, 0.007, 0.008, 0.004, 0.0, 0.0, 0.0, 0.0]\n"
     ]
    },
    {
     "data": {
      "text/plain": [
       "[<matplotlib.lines.Line2D at 0x1eab3df5470>]"
      ]
     },
     "execution_count": 12,
     "metadata": {},
     "output_type": "execute_result"
    },
    {
     "data": {
      "image/png": "[encoded data removed]",
      "text/plain": [
       "<Figure size 432x288 with 1 Axes>"
      ]
     },
     "metadata": {
      "needs_background": "light"
     },
     "output_type": "display_data"
    }
   ],
   "source": [
    "\n",
    "    \n",
    "p = np.linspace(0,1,30)\n",
    "fidelity_array = []\n",
    "for k in p:\n",
    "    fidelity = 0\n",
    "    shots = 1000\n",
    "    circuit = QuantumCircuit(3,2,name=\"repitition_circ\")\n",
    "    for j in range(shots):\n",
    "        circuit = QuantumCircuit(3,2,name=\"repitition_circ\")\n",
    "        initial_state = run(circuit,k)\n",
    "        simulator = Aer.get_backend('statevector_simulator')\n",
    "        job = execute(circuit,backend = simulator)\n",
    "        result = job.result()\n",
    "        snapshots = result.data()['snapshots']['statevector'].values()\n",
    "        s = []\n",
    "        for v in snapshots:\n",
    "            for i in range(2):\n",
    "                s.append(complex(v[0][i][0],v[0][i][1]))\n",
    "        s = np.array(s)\n",
    "        dot = abs(np.dot(initial_state,s))\n",
    "        fidelity += dot\n",
    "    fidelity = fidelity/shots\n",
    "    fidelity_array.append(fidelity)\n",
    "    \n",
    "print(fidelity_array)\n",
    "%matplotlib inline\n",
    "plt.plot(p,np.array(fidelity_array))\n"
   ]
  },
  {
   "cell_type": "code",
   "execution_count": 20,
   "metadata": {},
   "outputs": [
    {
     "name": "stdout",
     "output_type": "stream",
     "text": [
      "[0.8849055493784048, 0.7923969220440797, 0.6923029876980294, 0.6258264488820283, 0.5592556930248868, 0.4982704018478705, 0.44038622842613023, 0.4178914932585013, 0.35576572078482643, 0.3259623665337894, 0.2707839222699714, 0.2715847027862138, 0.24134130904599158, 0.21838734486179978, 0.23449778977457222, 0.2269124524500946, 0.23345610307379638, 0.2205209008893954, 0.23997159140962793, 0.2648611596547444, 0.3095918293198636, 0.35027227283534734, 0.38629063553262366, 0.4337408601520501, 0.47707206629656507, 0.5415016343195512, 0.6250610051805569, 0.6822895635775069, 0.7801133767667131, 0.8378793000353291]\n"
     ]
    },
    {
     "data": {
      "text/plain": [
       "[<matplotlib.lines.Line2D at 0x1eab417fb00>]"
      ]
     },
     "execution_count": 20,
     "metadata": {},
     "output_type": "execute_result"
    },
    {
     "data": {
      "image/png": "[encoded data removed]",
      "text/plain": [
       "<Figure size 432x288 with 1 Axes>"
      ]
     },
     "metadata": {
      "needs_background": "light"
     },
     "output_type": "display_data"
    }
   ],
   "source": [
    "p = np.linspace(0,1,30)\n",
    "fidelity_array = []\n",
    "for k in p:\n",
    "    fidelity = 0\n",
    "    shots = 1000\n",
    "    circuit = QuantumCircuit(3,2,name=\"repitition_circ\")\n",
    "    for j in range(shots):\n",
    "        circuit = QuantumCircuit(3,2,name=\"repitition_circ\")\n",
    "        initial_state = run(circuit,k)\n",
    "        simulator = Aer.get_backend('statevector_simulator')\n",
    "        job = execute(circuit,backend = simulator)\n",
    "        result = job.result()\n",
    "        snapshots = result.data()['snapshots']['statevector'].values()\n",
    "        s = []\n",
    "        for v in snapshots:\n",
    "            for i in range(2):\n",
    "                s.append(complex(v[0][i][0],v[0][i][1]))\n",
    "        s = np.array(s)\n",
    "        dot = abs(np.dot(initial_state,s))\n",
    "        fidelity += dot\n",
    "    fidelity = fidelity/shots\n",
    "    fidelity_array.append(fidelity)\n",
    "    \n",
    "print(fidelity_array)\n",
    "%matplotlib inline\n",
    "plt.plot(p,np.array(fidelity_array))\n"
   ]
  },
  {
   "cell_type": "code",
   "execution_count": null,
   "metadata": {},
   "outputs": [],
   "source": []
  }
 ],
 "metadata": {
  "kernelspec": {
   "display_name": "Python 3",
   "language": "python",
   "name": "python3"
  },
  "language_info": {
   "codemirror_mode": {
    "name": "ipython",
    "version": 3
   },
   "file_extension": ".py",
   "mimetype": "text/x-python",
   "name": "python",
   "nbconvert_exporter": "python",
   "pygments_lexer": "ipython3",
   "version": "3.7.3"
  }
 },
 "nbformat": 4,
 "nbformat_minor": 2
}
