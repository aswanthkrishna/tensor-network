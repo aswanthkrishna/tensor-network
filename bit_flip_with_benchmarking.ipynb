{
 "cells": [
  {
   "cell_type": "code",
   "execution_count": 39,
   "metadata": {},
   "outputs": [],
   "source": [
    "#imports\n",
    "from qiskit import*\n",
    "from qiskit.tools.visualization import plot_bloch_multivector\n",
    "import numpy as np\n",
    "from numpy import linalg as LA\n",
    "import random\n",
    "from qiskit.extensions.simulator import snapshot\n",
    "from matplotlib import pyplot as plt"
   ]
  },
  {
   "cell_type": "code",
   "execution_count": 8,
   "metadata": {},
   "outputs": [],
   "source": [
    "#initialize state vector\n",
    "\n",
    "def normalize(vector):\n",
    "    return vector / LA.norm(vector)\n",
    "\n",
    "def initialize( vector ):\n",
    "    circuit.initialize(vector.tolist(),0)\n",
    "    for i in range(1,5):\n",
    "            circuit.initialize([1,0],i)\n"
   ]
  },
  {
   "cell_type": "code",
   "execution_count": 4,
   "metadata": {},
   "outputs": [],
   "source": [
    "#encode\n",
    "def encode():\n",
    "    circuit.cx(0,1)\n",
    "    circuit.cx(0,2)\n"
   ]
  },
  {
   "cell_type": "code",
   "execution_count": 34,
   "metadata": {},
   "outputs": [],
   "source": [
    "#error\n",
    "def error(error_prob):\n",
    "    for i in range(3):\n",
    "        if( abs(random.random()) < error_prob ):\n",
    "            circuit.x(i)\n",
    "\n"
   ]
  },
  {
   "cell_type": "code",
   "execution_count": 6,
   "metadata": {},
   "outputs": [],
   "source": [
    "#correction\n",
    "def correct():\n",
    "    circuit.cx(0,3)\n",
    "    circuit.cx(1,3)\n",
    "\n",
    "    circuit.cx(1,4)\n",
    "    circuit.cx(2,4)\n",
    "    \n",
    "    syndrome = [circuit.measure(3,0),circuit.measure(4,1)]\n",
    "    \n",
    "    if(syndrome == [1,0]):\n",
    "        circuit.x(0)\n",
    "    elif(syndrome == [0,1]):\n",
    "        circuit.x(2)\n",
    "    elif(syndrome == [1,1]):\n",
    "        circuit.x(1)    \n",
    "    \n",
    "    #decode\n",
    "    circuit.cx(1,2)\n",
    "    circuit.measure(2,0)\n",
    "    circuit.cx(0,1)\n",
    "    circuit.measure(1,0)\n",
    "    circuit.snapshot(\"one_qubit\", qubits=[0])\n",
    "    \n"
   ]
  },
  {
   "cell_type": "code",
   "execution_count": 43,
   "metadata": {},
   "outputs": [
    {
     "name": "stdout",
     "output_type": "stream",
     "text": [
      "[0.9220550292189327, 0.8226518090498531, 0.757784346063283, 0.6377112031031917, 0.5412929105928497, 0.5524349682165964, 0.4232426931410857, 0.3769464793428971, 0.35468325766028586, 0.3822909361794488, 0.28221447787016757, 0.15812808892503288, 0.21937304744057967, 0.1594031203596051, 0.30939292180132727, 0.20200502147869212, 0.17165459156851423, 0.16930986708977694, 0.2504184712028135, 0.2528810234425484, 0.2690985819019546, 0.2718541033087304, 0.3526043513789787, 0.4448211833993828, 0.4397472348244391, 0.5085153989768112, 0.5815434154812484, 0.7479911601995377, 0.7688467757128993, 0.8593755212878207]\n"
     ]
    },
    {
     "data": {
      "text/plain": [
       "[<matplotlib.lines.Line2D at 0x1b5aa608ac8>]"
      ]
     },
     "execution_count": 43,
     "metadata": {},
     "output_type": "execute_result"
    },
    {
     "data": {
      "image/png": "[encoded data removed]",
      "text/plain": [
       "<Figure size 432x288 with 1 Axes>"
      ]
     },
     "metadata": {
      "needs_background": "light"
     },
     "output_type": "display_data"
    }
   ],
   "source": [
    "\n",
    "def run(circuit,error_prob):\n",
    "        initial_state = [complex(random.random(),random.random()),complex(random.random(),random.random())]\n",
    "        initial_state = normalize(initial_state)\n",
    "        initialize(initial_state)\n",
    "        encode()\n",
    "        error(error_prob)\n",
    "        correct()\n",
    "        return initial_state\n",
    "\n",
    "    \n",
    "p = np.linspace(0,1,30)\n",
    "fidelity_array = []\n",
    "for k in p:\n",
    "    fidelity = 0\n",
    "    shots = 50\n",
    "    circuit = QuantumCircuit(5,2,name=\"repitition_circ\")\n",
    "    for j in range(shots):\n",
    "        circuit = QuantumCircuit(5,2,name=\"repitition_circ\")\n",
    "        initial_state = run(circuit,k)\n",
    "        simulator = Aer.get_backend('statevector_simulator')\n",
    "        job = execute(circuit,backend = simulator)\n",
    "        result = job.result()\n",
    "        snapshots = result.data()['snapshots']['statevector'].values()\n",
    "        s = []\n",
    "        for v in snapshots:\n",
    "            for i in range(2):\n",
    "                s.append(complex(v[0][i][0],v[0][i][1]))\n",
    "        s = np.array(s)\n",
    "        dot = abs(np.dot(initial_state,s))\n",
    "        fidelity += dot\n",
    "    fidelity = fidelity/shots\n",
    "    fidelity_array.append(fidelity)\n",
    "    \n",
    "print(fidelity_array)\n",
    "%matplotlib inline\n",
    "plt.plot(p,np.array(fidelity_array))\n"
   ]
  },
  {
   "cell_type": "code",
   "execution_count": null,
   "metadata": {},
   "outputs": [],
   "source": []
  },
  {
   "cell_type": "code",
   "execution_count": null,
   "metadata": {},
   "outputs": [],
   "source": []
  }
 ],
 "metadata": {
  "kernelspec": {
   "display_name": "Python 3",
   "language": "python",
   "name": "python3"
  },
  "language_info": {
   "codemirror_mode": {
    "name": "ipython",
    "version": 3
   },
   "file_extension": ".py",
   "mimetype": "text/x-python",
   "name": "python",
   "nbconvert_exporter": "python",
   "pygments_lexer": "ipython3",
   "version": "3.7.3"
  }
 },
 "nbformat": 4,
 "nbformat_minor": 2
}
