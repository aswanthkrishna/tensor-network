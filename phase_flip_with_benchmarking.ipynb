{
 "cells": [
  {
   "cell_type": "code",
   "execution_count": 8,
   "metadata": {},
   "outputs": [],
   "source": [
    "#imports\n",
    "from qiskit import*\n",
    "from qiskit.tools.visualization import plot_bloch_multivector\n",
    "import numpy as np\n",
    "from numpy import linalg as LA\n",
    "import random\n",
    "from qiskit.extensions.simulator import snapshot\n",
    "from matplotlib import pyplot as plt"
   ]
  },
  {
   "cell_type": "code",
   "execution_count": 9,
   "metadata": {},
   "outputs": [],
   "source": [
    "#initialize state vector\n",
    "\n",
    "def normalize(vector):\n",
    "    return vector / LA.norm(vector)\n",
    "\n",
    "def initialize( vector ):\n",
    "    circuit.initialize(vector.tolist(),0)\n",
    "    for i in range(1,5):\n",
    "            circuit.initialize([1,0],i)\n"
   ]
  },
  {
   "cell_type": "code",
   "execution_count": 10,
   "metadata": {},
   "outputs": [],
   "source": [
    "#encode\n",
    "def encode():\n",
    "    for i in range(5):\n",
    "        circuit.h(i)\n",
    "    circuit.cx(0,1)\n",
    "    circuit.cx(0,2)\n"
   ]
  },
  {
   "cell_type": "code",
   "execution_count": 11,
   "metadata": {},
   "outputs": [],
   "source": [
    "#error\n",
    "def error(error_prob):\n",
    "    for i in range(3):\n",
    "        if( abs(random.random()) < error_prob ):\n",
    "            circuit.z(i)"
   ]
  },
  {
   "cell_type": "code",
   "execution_count": 12,
   "metadata": {},
   "outputs": [],
   "source": [
    "#correction\n",
    "def correct():\n",
    "    circuit.cx(0,3)\n",
    "    circuit.cx(1,3)\n",
    "\n",
    "    circuit.cx(1,4)\n",
    "    circuit.cx(2,4)\n",
    "    \n",
    "    syndrome = [circuit.measure(3,0),circuit.measure(4,1)]\n",
    "    \n",
    "    if(syndrome == [1,0]):\n",
    "        circuit.z(0)\n",
    "    elif(syndrome == [0,1]):\n",
    "        circuit.z(2)\n",
    "    elif(syndrome == [1,1]):\n",
    "        circuit.z(1)    \n",
    "    \n",
    "    circuit.cx(1,2)\n",
    "    circuit.measure(2,0)\n",
    "    circuit.cx(0,1)\n",
    "    circuit.measure(1,0)\n",
    "    circuit.h(0)\n",
    "    circuit.snapshot(\"one_qubit\", qubits=[0])"
   ]
  },
  {
   "cell_type": "code",
   "execution_count": 13,
   "metadata": {},
   "outputs": [
    {
     "name": "stdout",
     "output_type": "stream",
     "text": [
      "[0.22537428701932613, 0.21956844546321633, 0.21738511769736174, 0.21945934008540974, 0.22189835872993258, 0.2177408550391589, 0.2179554246673739, 0.22120921167813432, 0.21504767620690174, 0.22113249507317176, 0.22556865322143518, 0.2234158176614677, 0.21507037811628496, 0.2192425978445736, 0.220602934266914, 0.21889414920570008, 0.21242725246862804, 0.21981826381009, 0.21813049940428164, 0.2126458884674774, 0.2141655961849589, 0.21808054659114076, 0.21376743751708815, 0.21563059734302584, 0.2255632690457152, 0.22341396300885855, 0.21406629141770367, 0.22079429269068843, 0.209465586944633, 0.2145781186244177]\n"
     ]
    },
    {
     "data": {
      "text/plain": [
       "[<matplotlib.lines.Line2D at 0x1eac8aa3550>]"
      ]
     },
     "execution_count": 13,
     "metadata": {},
     "output_type": "execute_result"
    },
    {
     "data": {
      "image/png": "[encoded data removed]",
      "text/plain": [
       "<Figure size 432x288 with 1 Axes>"
      ]
     },
     "metadata": {
      "needs_background": "light"
     },
     "output_type": "display_data"
    }
   ],
   "source": [
    "\n",
    "def run(circuit,error_prob):\n",
    "        initial_state = [complex(random.random(),random.random()),complex(random.random(),random.random())]\n",
    "        initial_state = normalize(initial_state)\n",
    "        initialize(initial_state)\n",
    "        encode()\n",
    "        error(error_prob)\n",
    "        correct()\n",
    "        return initial_state\n",
    "\n",
    "    \n",
    "p = np.linspace(0,1,30)\n",
    "fidelity_array = []\n",
    "for k in p:\n",
    "    fidelity = 0\n",
    "    shots = 50\n",
    "    circuit = QuantumCircuit(5,2,name=\"repitition_circ\")\n",
    "    for j in range(shots):\n",
    "        circuit = QuantumCircuit(5,2,name=\"repitition_circ\")\n",
    "        initial_state = run(circuit,k)\n",
    "        simulator = Aer.get_backend('statevector_simulator')\n",
    "        job = execute(circuit,backend = simulator)\n",
    "        result = job.result()\n",
    "        snapshots = result.data()['snapshots']['statevector'].values()\n",
    "        s = []\n",
    "        for v in snapshots:\n",
    "            for i in range(2):\n",
    "                s.append(complex(v[0][i][0],v[0][i][1]))\n",
    "        s = np.array(s)\n",
    "        dot = abs(np.dot(initial_state,s))\n",
    "        fidelity += dot\n",
    "    fidelity = fidelity/shots\n",
    "    fidelity_array.append(fidelity)\n",
    "    \n",
    "print(fidelity_array)\n",
    "%matplotlib inline\n",
    "plt.plot(p,np.array(fidelity_array))\n"
   ]
  },
  {
   "cell_type": "code",
   "execution_count": null,
   "metadata": {},
   "outputs": [],
   "source": []
  }
 ],
 "metadata": {
  "kernelspec": {
   "display_name": "Python 3",
   "language": "python",
   "name": "python3"
  },
  "language_info": {
   "codemirror_mode": {
    "name": "ipython",
    "version": 3
   },
   "file_extension": ".py",
   "mimetype": "text/x-python",
   "name": "python",
   "nbconvert_exporter": "python",
   "pygments_lexer": "ipython3",
   "version": "3.7.3"
  }
 },
 "nbformat": 4,
 "nbformat_minor": 2
}
