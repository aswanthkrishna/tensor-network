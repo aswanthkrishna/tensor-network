{
 "cells": [
  {
   "cell_type": "markdown",
   "metadata": {},
   "source": [
    "importing some preliminary libraries"
   ]
  },
  {
   "cell_type": "code",
   "execution_count": 3,
   "metadata": {},
   "outputs": [],
   "source": [
    "import numpy as np\n",
    "from numpy.linalg import norm\n",
    " \n",
    "from random import normalvariate\n",
    "from math import sqrt"
   ]
  },
  {
   "cell_type": "markdown",
   "metadata": {},
   "source": [
    "we are trying to implement SVD for a given matrix from scratch.\n",
    "Any matrix A can be broken down into a product of two Untitary matrices and a diagonal matrix.\n",
    "$$A = U\\Sigma V^{T} -(1)$$ \n",
    "here $U$ is the left singular matrix $\\Sigma$ is a diagonal matrix and $V$ is the right singular matrix\n",
    "\n",
    "here,\n",
    "\n",
    "$V = \\bigl(\\begin{smallmatrix}\n",
    "v_{1} &.  &.  &.  &.  &v_{n} \n",
    "\\end{smallmatrix}\\bigr)$ is the list of right singular vectors. They form an orthonormal basis for the input vector space.\n",
    "\n",
    "$U = \\bigl(\\begin{smallmatrix}\n",
    "u_{1} &.  &.  &.  &.  &u_{n} \n",
    "\\end{smallmatrix}\\bigr)$ is the list of left singular vectors. They form an orthonormal basis for output vector space\n",
    "\n",
    "and $\\Sigma$ is a diagonal matrix consisting of Singular Values in the diagonal\n",
    "\n",
    "$\\Sigma = \\begin{pmatrix}\n",
    " &\\sigma _{1} & 0 &0  &0  &0 \\\\ \n",
    " &0 &\\sigma _{2}  &0  &0  &0 \\\\ \n",
    " &0  &0  &\\sigma _{3}  &0  &0 \\\\ \n",
    " &0  &0  &0  & \\sigma _{4} &0 \\\\ \n",
    " &0 &0  &0  &0  &\\sigma _{5} \\\\ \n",
    "\\end{pmatrix}$\n",
    "\n",
    "we can reframe $(1)$ as $AV = U\\Sigma$ which inturn implies $Av_{n} = \\sigma_{n}u_{n} -(2)$\n",
    "it can also be written as $A = \\sum_{i}\\sigma_{i}u_{i}v_{i}^T - (3)$\n",
    "\n",
    "$(2)$ is similiar to an Eigenvalue equation but $v_{n}$ and $u_{n}$ lives in different vector spaces.\n",
    "\n",
    "We are trying to find out $v_{n}$ when a matrix A is given.\n",
    "\n",
    "$v_{n}$ will be eigenvectors of this matrix $B = A^{T}A$\n",
    "\n",
    "$A^{T}A = A = (U\\Sigma V^{T})^{T}U\\Sigma V^{T} = V\\Sigma U^{T}U\\Sigma V^{T} = V\\Sigma^{2} V^{T}$\n",
    "\n",
    "we can find $v_{n}$ by a method called power method.\n",
    "\n",
    "in this method we start with a random unit vector $x$\n",
    "\n",
    "then we apply $lim_{s\\rightarrow \\infty }B^sx$  which will be in the span of $v_{n}$\n",
    "\n",
    "we can see this by expressing $x$ in the basis of $v_{1},...,v_{n}$\n",
    "\n",
    "$$x = \\sum_{i} c_{i}v_{i}$$\n",
    "\n",
    "$$B^{s}x = \\sum_{i} c_{i}B^{s}v_{i} = \\sum_{i} c_{i}\\sigma_{i}^{2s}v_{i}$$\n",
    "\n",
    "if $\\sigma_{1} > \\sigma_{2}, \\sigma_{1}^{2s} >>>> \\sigma_{2}^{2s}$ and $B^{s}x \\approx c_{1}\\sigma_{1}^{2s}v_{1}$ and so  $B^{s}x$ will lie in the span of $v_{1}$ \n",
    "\n",
    "we can obtain $v_{i}$ from $x$ by normalising it \n",
    "\n",
    "\n"
   ]
  },
  {
   "cell_type": "markdown",
   "metadata": {},
   "source": [
    "Input a matrix A"
   ]
  },
  {
   "cell_type": "code",
   "execution_count": 13,
   "metadata": {},
   "outputs": [
    {
     "name": "stdin",
     "output_type": "stream",
     "text": [
      "Enter number of rows:  2\n",
      "Enter number of columns:  2\n",
      "Enter value for 1. row and 1. column:  1\n",
      "Enter value for 1. row and 2. column:  2\n",
      "Enter value for 2. row and 1. column:  3\n",
      "Enter value for 2. row and 2. column:  4\n"
     ]
    }
   ],
   "source": [
    "n_rows = int(input(\"Enter number of rows: \"))\n",
    "n_cols = int(input(\"Enter number of columns: \"))\n",
    "\n",
    "B = [[int(input(\"Enter value for {}. row and {}. column: \".format(r + 1, c + 1))) for c in range(n_cols)] for r in range(n_rows)]\n",
    "A = np.array(B).astype('float64')"
   ]
  },
  {
   "cell_type": "markdown",
   "metadata": {},
   "source": [
    "Here we define a function randomUnitVector(n) that returns a random unit vector of dimension n, $x$"
   ]
  },
  {
   "cell_type": "code",
   "execution_count": 6,
   "metadata": {},
   "outputs": [],
   "source": [
    "def randomUnitVector(n):\n",
    "    unnormalized = [normalvariate(0, 1) for _ in range(n)]\n",
    "    theNorm = sqrt(sum(x * x for x in unnormalized))\n",
    "    return [x / theNorm for x in unnormalized]"
   ]
  },
  {
   "cell_type": "markdown",
   "metadata": {},
   "source": [
    "Here we define a function svd_1d(A, epsilon=1e-10), that returns $v_{1}$ if given a matrix $A$ as its input by recursivly applying B to x and stopping when $\\left | B^{s}x - B^{s-1}x \\right | < epsilon$"
   ]
  },
  {
   "cell_type": "code",
   "execution_count": 7,
   "metadata": {},
   "outputs": [],
   "source": [
    "def svd_1d(A, epsilon=1e-10):\n",
    "    ''' The one-dimensional SVD '''\n",
    " \n",
    "    n, m = A.shape\n",
    "    x = randomUnitVector(m)\n",
    "    lastV = None\n",
    "    currentV = x\n",
    "    B = np.dot(A.T, A)\n",
    " \n",
    "    iterations = 0\n",
    "    while True:\n",
    "        iterations += 1\n",
    "        lastV = currentV\n",
    "        currentV = np.dot(B, lastV)\n",
    "        currentV = currentV / norm(currentV) #normalise\n",
    " \n",
    "        if abs(np.dot(currentV, lastV)) > 1 - epsilon: #checks if currentV is close enough to the first singular vector\n",
    "            print(\"converged in {} iterations!\".format(iterations))\n",
    "            return currentV"
   ]
  },
  {
   "cell_type": "code",
   "execution_count": 8,
   "metadata": {},
   "outputs": [
    {
     "name": "stdout",
     "output_type": "stream",
     "text": [
      "converged in 3 iterations!\n",
      "v1 = [0.57604844 0.81741556].\n"
     ]
    }
   ],
   "source": [
    "print(\"v1 = {}.\".format(svd_1d(A, epsilon=1e-10)))"
   ]
  },
  {
   "cell_type": "markdown",
   "metadata": {},
   "source": [
    "we can find the other $v_{2}$ by subtracting $\\sigma_{1}u_{1}v_{1}^T$ from A , $A' = A -\\sigma_{1}u_{1}v_{1}^T$ and passing $A'$ to svd_1d().\n",
    "\n",
    "all other singular vectors can be found this way by recursivly subtracting rank 1 components of the previous singular vector from A and then using power method"
   ]
  },
  {
   "cell_type": "code",
   "execution_count": 9,
   "metadata": {},
   "outputs": [],
   "source": [
    "def svd(A, epsilon=1e-10):\n",
    "    n, m = A.shape\n",
    "    svdSoFar = []\n",
    " \n",
    "    for i in range(m):\n",
    "        matrixFor1D = A.copy()\n",
    " \n",
    "        for singularValue, u, v in svdSoFar[:i]:\n",
    "            matrixFor1D -= singularValue * np.outer(u, v)\n",
    " \n",
    "        v = svd_1d(matrixFor1D, epsilon=epsilon)  # next singular vector\n",
    "        u_unnormalized = np.dot(A, v)\n",
    "        sigma = norm(u_unnormalized)  # next singular value\n",
    "        u = u_unnormalized / sigma\n",
    " \n",
    "        svdSoFar.append((sigma, u, v))\n",
    " \n",
    "    # transform it into matrices of the right shape\n",
    "    singularValues, us, vs = [np.array(x) for x in zip(*svdSoFar)]\n",
    " \n",
    "    return singularValues, us.T, vs"
   ]
  },
  {
   "cell_type": "code",
   "execution_count": 16,
   "metadata": {},
   "outputs": [
    {
     "name": "stdout",
     "output_type": "stream",
     "text": [
      "converged in 4 iterations!\n",
      "converged in 2 iterations!\n",
      "[5.4649857  0.36596619]\n",
      "[[-0.40455358  0.9145143 ]\n",
      " [-0.9145143  -0.40455357]]\n",
      "[[-0.57604844 -0.81741556]\n",
      " [-0.81741556  0.57604844]]\n"
     ]
    }
   ],
   "source": [
    "theSVD = svd(A)\n",
    "\n",
    "print(theSVD[0]) #list of singular values\n",
    "print(theSVD[1]) #left singular matrix\n",
    "print(theSVD[2]) #left singular matrix"
   ]
  },
  {
   "cell_type": "code",
   "execution_count": null,
   "metadata": {},
   "outputs": [],
   "source": []
  }
 ],
 "metadata": {
  "kernelspec": {
   "display_name": "Python 3",
   "language": "python",
   "name": "python3"
  },
  "language_info": {
   "codemirror_mode": {
    "name": "ipython",
    "version": 3
   },
   "file_extension": ".py",
   "mimetype": "text/x-python",
   "name": "python",
   "nbconvert_exporter": "python",
   "pygments_lexer": "ipython3",
   "version": "3.7.3"
  }
 },
 "nbformat": 4,
 "nbformat_minor": 4
}
